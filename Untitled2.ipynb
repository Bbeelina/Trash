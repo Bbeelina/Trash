{
  "nbformat": 4,
  "nbformat_minor": 0,
  "metadata": {
    "colab": {
      "provenance": [],
      "authorship_tag": "ABX9TyPnHq5MuExh18sujQTUBgYa",
      "include_colab_link": true
    },
    "kernelspec": {
      "name": "python3",
      "display_name": "Python 3"
    },
    "language_info": {
      "name": "python"
    }
  },
  "cells": [
    {
      "cell_type": "markdown",
      "metadata": {
        "id": "view-in-github",
        "colab_type": "text"
      },
      "source": [
        "<a href=\"https://colab.research.google.com/github/Bbeelina/Trash/blob/main/Untitled2.ipynb\" target=\"_parent\"><img src=\"https://colab.research.google.com/assets/colab-badge.svg\" alt=\"Open In Colab\"/></a>"
      ]
    },
    {
      "cell_type": "code",
      "source": [
        "import matplotlib.pyplot as plt\n",
        "import numpy as np\n",
        "import pandas as pd\n",
        "import pandas_datareader as web\n",
        "from matplotlib.ticker import FuncFormatter\n",
        "#!pip install PyPortfolioOpt\n",
        "from pypfopt.efficient_frontier import EfficientFrontier\n",
        "from pypfopt import risk_models\n",
        "from pypfopt import expected_returns\n",
        "from pypfopt.cla import CLA\n",
        "import pypfopt.plotting as pplt\n",
        "from matplotlib.ticker import FuncFormatter\n",
        "from pypfopt.discrete_allocation import get_latest_prices\n",
        "from pypfopt.discrete_allocation import DiscreteAllocation\n",
        "import yfinance as yf"
      ],
      "metadata": {
        "id": "ZfGo-Jh45AyB"
      },
      "execution_count": 16,
      "outputs": []
    },
    {
      "cell_type": "code",
      "source": [
        "\n",
        "def portfolio_optimization(returns, cov_matrix, num_assets=10, max_iter=100, short_selling=True):\n",
        "  \"\"\"\n",
        "  Итеративный локальный поиск для выбора портфеля из num_assets активов.\n",
        "\n",
        "  Args:\n",
        "    returns: Матрица доходности активов (N x T), где N - количество активов, T - количество периодов.\n",
        "    cov_matrix: Ковариационная матрица доходности активов (N x N).\n",
        "    num_assets: Количество активов в портфеле.\n",
        "    max_iter: Максимальное количество итераций.\n",
        "    short_selling: Разрешены ли короткие продажи (True/False).\n",
        "\n",
        "  Returns:\n",
        "    selected_assets: Список из num_assets выбранных активов.\n",
        "    weights: Вектор весов портфеля (N).\n",
        "    portfolio_return: Ожидаемая доходность портфеля.\n",
        "    portfolio_risk: Стандартное отклонение доходности портфеля.\n",
        "  \"\"\"\n",
        "\n",
        "  n_assets = returns.shape[0]\n",
        "  # Инициализация случайного портфеля\n",
        "  weights = np.random.rand(n_assets)\n",
        "  weights /= np.sum(weights)\n",
        "\n",
        "  # Ограничения на веса\n",
        "  if not short_selling:\n",
        "    weights = np.clip(weights, 0, 1)\n",
        "  # Итеративный локальный поиск\n",
        "  for _ in range(max_iter):\n",
        "    for i in range(n_assets):\n",
        "      # Удаление текущего актива из портфеля\n",
        "      temp_weights = weights.copy()\n",
        "      temp_weights[i] = 0\n",
        "\n",
        "      # Проверка остальных активов\n",
        "      for j in range(n_assets):\n",
        "        if j == i or temp_weights[j] > 0:\n",
        "          continue\n",
        "\n",
        "        # Добавление актива j в портфель\n",
        "        temp_weights[j] = 1 - np.sum(temp_weights)\n",
        "\n",
        "        # Ограничения на веса\n",
        "        if not short_selling:\n",
        "          temp_weights = np.clip(temp_weights, 0, 1)\n",
        "\n",
        "        # Вычисление доходности и риска портфеля\n",
        "        portfolio_return = np.dot(temp_weights, np.mean(returns, axis=1))\n",
        "        portfolio_risk = np.sqrt(np.dot(temp_weights.T, np.dot(cov_matrix, temp_weights)))\n",
        "\n",
        "        # Обновление весов, если найден лучший вариант\n",
        "        if portfolio_return > np.dot(weights, np.mean(returns, axis=1)) and portfolio_risk < np.sqrt(np.dot(weights.T, np.dot(cov_matrix, weights))):\n",
        "          weights = temp_weights.copy()\n",
        "\n",
        "  # Вычисление окончательной доходности и риска портфеля\n",
        "  portfolio_return = np.dot(weights, np.mean(returns, axis=1))\n",
        "  portfolio_risk = np.sqrt(np.dot(weights.T, np.dot(cov_matrix, weights)))\n",
        "\n",
        "  # Выбор 10 активов с наибольшими весами\n",
        "  selected_assets = np.argsort(weights)[-num_assets:]\n",
        "\n",
        "  return selected_assets, weights, portfolio_return, portfolio_risk\n",
        "\n",
        "# Загрузка тикеров из Excel-файла\n",
        "tickers = pd.read_excel('/content/tickers.xlsx', usecols=[\"ticker\"])[\"ticker\"].tolist()\n",
        "\n",
        "# Загрузка исторических данных по 50 активам\n",
        "data = yf.download(tickers, start=\"2016-01-01\", end=\"2016-12-31\")[\"Adj Close\"]\n",
        "\n",
        "# Вычисление доходности\n",
        "returns = data.pct_change().dropna()\n",
        "\n",
        "# Вычисление ковариационной матрицы\n",
        "cov_matrix = returns.cov()\n",
        "\n",
        "# Оптимизация портфеля с короткими продажами\n",
        "selected_assets_short, weights_short, return_short, risk_short = portfolio_optimization(returns.values[:50], cov_matrix.values, short_selling=True)\n",
        "\n",
        "# Оптимизация портфеля без коротких продаж\n",
        "selected_assets_long, weights_long, return_long, risk_long = portfolio_optimization(returns.values[:50], cov_matrix.values, short_selling=False)\n",
        "\n",
        "# Вывод результатов\n",
        "print(\"Портфель с короткими продажами:\")\n",
        "print(\"Выбранные активы:\", [tickers[i] for i in selected_assets_short])\n",
        "\n",
        "print(\"\\nПортфель без коротких продаж:\")\n",
        "print(\"Выбранные активы:\", [tickers[i] for i in selected_assets_long])"
      ],
      "metadata": {
        "colab": {
          "base_uri": "https://localhost:8080/"
        },
        "id": "eJeJao3Z1DwT",
        "outputId": "c35b95a3-6692-4f43-add4-a5ed6eb6ddac"
      },
      "execution_count": 17,
      "outputs": [
        {
          "output_type": "stream",
          "name": "stderr",
          "text": [
            "[*********************100%***********************]  50 of 50 completed\n"
          ]
        },
        {
          "output_type": "stream",
          "name": "stdout",
          "text": [
            "Портфель с короткими продажами:\n",
            "Выбранные активы: ['1929.HK', '0006.HK', '0016.HK', '1211.HK', '2020.HK', '0960.HK', '0288.HK', '0003.HK', '0836.HK', '1299.HK']\n",
            "\n",
            "Портфель без коротких продаж:\n",
            "Выбранные активы: ['0700.HK', '1211.HK', '0003.HK', '0066.HK', '0011.HK', '1099.HK', '0386.HK', '0939.HK', '0823.HK', '0012.HK']\n"
          ]
        }
      ]
    },
    {
      "cell_type": "code",
      "source": [
        "tickers_10_short = [tickers[i] for i in selected_assets_short]\n",
        "tickers_10_long = [tickers[i] for i in selected_assets_long]\n",
        "print(\"long\")\n",
        "print(tickers_10_long)\n",
        "print(\"short\")\n",
        "print(tickers_10_short)"
      ],
      "metadata": {
        "colab": {
          "base_uri": "https://localhost:8080/"
        },
        "id": "tRr8kbJ75KO3",
        "outputId": "ecfeaa3a-ce07-4886-ad73-ff63e805c4f0"
      },
      "execution_count": 30,
      "outputs": [
        {
          "output_type": "stream",
          "name": "stdout",
          "text": [
            "long\n",
            "['0700.HK', '1211.HK', '0003.HK', '0066.HK', '0011.HK', '1099.HK', '0386.HK', '0939.HK', '0823.HK', '0012.HK']\n",
            "short\n",
            "['1929.HK', '0006.HK', '0016.HK', '1211.HK', '2020.HK', '0960.HK', '0288.HK', '0003.HK', '0836.HK', '1299.HK']\n"
          ]
        }
      ]
    },
    {
      "cell_type": "code",
      "source": [
        "df_stocks= yf.download(tickers_10_long, start=\"2016-01-01\", end=\"2016-12-31\")['Adj Close']\n",
        "df_stocks.head()\n",
        "nullin_df = pd.DataFrame(df_stocks,columns=tickers_10_long)\n",
        "print(nullin_df)\n",
        "#Годовая доходность\n",
        "mu = expected_returns.mean_historical_return(df_stocks)\n",
        "#Дисперсия портфеля\n",
        "Sigma = risk_models.sample_cov(df_stocks)\n",
        "#Максимальный коэффициент Шарпа\n",
        "ef = EfficientFrontier(mu, Sigma, weight_bounds=(0,1)) #weight bounds in negative allows shorting of stocks\n",
        "sharpe_pfolio=ef.max_sharpe() #May use add objective to ensure minimum zero weighting to individual stocks\n",
        "sharpe_pwt=ef.clean_weights()\n",
        "print(sharpe_pwt)\n",
        "\n",
        "cl_obj = CLA(mu, Sigma)\n",
        "ax = pplt.plot_efficient_frontier(cl_obj, showfig = False)\n",
        "ax.xaxis.set_major_formatter(FuncFormatter(lambda x, _: '{:.0%}'.format(x)))\n",
        "ax.yaxis.set_major_formatter(FuncFormatter(lambda y, _: '{:.0%}'.format(y)))\n",
        "\n",
        "ef1 = EfficientFrontier(mu, Sigma, weight_bounds=(0,1))\n",
        "minvol=ef1.min_volatility()\n",
        "minvol_pwt=ef1.clean_weights()\n",
        "print(minvol_pwt)\n",
        "\n",
        "ef1.portfolio_performance(verbose=True, risk_free_rate = 0.27)\n",
        "\n",
        "latest_prices = get_latest_prices(df_stocks)\n",
        "allocation_minv, rem_minv = DiscreteAllocation(minvol_pwt, latest_prices, total_portfolio_value=100000).lp_portfolio()\n",
        "print(allocation_minv)\n",
        "print(\"Осталось денежных средств после построения портфеля с минимальной волатильностью - {:.2f} рублей\".format(rem_minv))\n",
        "print()\n",
        "\n",
        "latest_prices1 = get_latest_prices(df_stocks)\n",
        "allocation_shp, rem_shp = DiscreteAllocation(sharpe_pwt, latest_prices1, total_portfolio_value=100000).lp_portfolio()\n",
        "print(allocation_shp)\n",
        "print(\"Осталось денежных средств после построения портфеля с максимальным коэффициентом Шарпа {:.2f} рублей\".format(rem_shp))\n",
        "\n",
        "plt.show()\n",
        "###\n",
        "df_stocks= yf.download(tickers_10_short, start=\"2016-01-01\", end=\"2016-12-31\")['Adj Close']\n",
        "df_stocks.head()\n",
        "nullin_df = pd.DataFrame(df_stocks,columns=tickers_10_short)\n",
        "print(nullin_df)\n",
        "#Годовая доходность\n",
        "mu = expected_returns.mean_historical_return(df_stocks)\n",
        "#Дисперсия портфеля\n",
        "Sigma = risk_models.sample_cov(df_stocks)\n",
        "#Максимальный коэффициент Шарпа\n",
        "ef = EfficientFrontier(mu, Sigma, weight_bounds=(0,1)) #weight bounds in negative allows shorting of stocks\n",
        "sharpe_pfolio=ef.max_sharpe() #May use add objective to ensure minimum zero weighting to individual stocks\n",
        "sharpe_pwt=ef.clean_weights()\n",
        "print(sharpe_pwt)\n",
        "\n",
        "cl_obj = CLA(mu, Sigma)\n",
        "ax = pplt.plot_efficient_frontier(cl_obj, showfig = False)\n",
        "ax.xaxis.set_major_formatter(FuncFormatter(lambda x, _: '{:.0%}'.format(x)))\n",
        "ax.yaxis.set_major_formatter(FuncFormatter(lambda y, _: '{:.0%}'.format(y)))\n",
        "\n",
        "ef1 = EfficientFrontier(mu, Sigma, weight_bounds=(-1,1))\n",
        "minvol=ef1.min_volatility()\n",
        "minvol_pwt=ef1.clean_weights()\n",
        "print(minvol_pwt)\n",
        "\n",
        "ef1.portfolio_performance(verbose=True, risk_free_rate = 0.27)\n",
        "\n",
        "latest_prices = get_latest_prices(df_stocks)\n",
        "allocation_minv, rem_minv = DiscreteAllocation(minvol_pwt, latest_prices, total_portfolio_value=100000).lp_portfolio()\n",
        "print(allocation_minv)\n",
        "print(\"Осталось денежных средств после построения портфеля с минимальной волатильностью - {:.2f} рублей\".format(rem_minv))\n",
        "print()\n",
        "\n",
        "latest_prices1 = get_latest_prices(df_stocks)\n",
        "allocation_shp, rem_shp = DiscreteAllocation(sharpe_pwt, latest_prices1, total_portfolio_value=100000).lp_portfolio()\n",
        "print(allocation_shp)\n",
        "print(\"Осталось денежных средств после построения портфеля с максимальным коэффициентом Шарпа {:.2f} рублей\".format(rem_shp))\n",
        "\n",
        "\n",
        "plt.show()"
      ],
      "metadata": {
        "colab": {
          "base_uri": "https://localhost:8080/",
          "height": 1000
        },
        "id": "A8EjKKqF24gk",
        "outputId": "6fce8a42-c408-4877-e5ea-20d948d96681"
      },
      "execution_count": 33,
      "outputs": [
        {
          "output_type": "stream",
          "name": "stderr",
          "text": [
            "[*********************100%***********************]  10 of 10 completed\n"
          ]
        },
        {
          "output_type": "stream",
          "name": "stdout",
          "text": [
            "                              0700.HK    1211.HK   0003.HK    0066.HK  \\\n",
            "Date                                                                    \n",
            "2016-01-04 00:00:00+00:00  132.367905  39.463650  6.895866  26.763411   \n",
            "2016-01-05 00:00:00+00:00  130.858704  39.033134  6.895866  27.048117   \n",
            "2016-01-06 00:00:00+00:00  129.615799  39.415813  6.812674  26.549868   \n",
            "2016-01-07 00:00:00+00:00  124.466690  35.541195  6.794185  25.802490   \n",
            "2016-01-08 00:00:00+00:00  126.597374  36.115211  6.803429  26.087206   \n",
            "...                               ...        ...       ...        ...   \n",
            "2016-12-22 00:00:00+00:00  161.656281  39.359360  7.106403  28.375130   \n",
            "2016-12-23 00:00:00+00:00  160.053055  38.877010  7.075189  28.299253   \n",
            "2016-12-28 00:00:00+00:00  163.526672  39.021713  7.075189  28.375130   \n",
            "2016-12-29 00:00:00+00:00  167.089340  39.745235  7.075189  28.450996   \n",
            "2016-12-30 00:00:00+00:00  168.959747  39.407593  7.148022  28.602732   \n",
            "\n",
            "                              0011.HK    1099.HK   0386.HK   0939.HK  \\\n",
            "Date                                                                   \n",
            "2016-01-04 00:00:00+00:00   97.756241  23.115627  2.297164  2.896058   \n",
            "2016-01-05 00:00:00+00:00   98.850029  22.579836  2.297164  2.890435   \n",
            "2016-01-06 00:00:00+00:00   97.277733  22.579836  2.261667  2.873565   \n",
            "2016-01-07 00:00:00+00:00   93.928017  22.197124  2.099395  2.811707   \n",
            "2016-01-08 00:00:00+00:00   94.338181  22.694647  2.216028  2.822954   \n",
            "...                               ...        ...       ...       ...   \n",
            "2016-12-22 00:00:00+00:00  103.632385  24.475977  2.915498  3.235232   \n",
            "2016-12-23 00:00:00+00:00  102.563301  24.398399  2.863250  3.336148   \n",
            "2016-12-28 00:00:00+00:00  101.993103  24.553553  2.868474  3.496425   \n",
            "2016-12-29 00:00:00+00:00  102.064362  24.514767  2.858024  3.496425   \n",
            "2016-12-30 00:00:00+00:00  102.848389  24.786291  2.873699  3.543915   \n",
            "\n",
            "                             0823.HK    0012.HK  \n",
            "Date                                             \n",
            "2016-01-04 00:00:00+00:00  30.272673  20.438154  \n",
            "2016-01-05 00:00:00+00:00  29.907936  20.136007  \n",
            "2016-01-06 00:00:00+00:00  30.007410  20.028099  \n",
            "2016-01-07 00:00:00+00:00  29.775307  19.833860  \n",
            "2016-01-08 00:00:00+00:00  29.576363  19.661201  \n",
            "...                              ...        ...  \n",
            "2016-12-22 00:00:00+00:00  34.261375  19.945194  \n",
            "2016-12-23 00:00:00+00:00  34.053726  19.847183  \n",
            "2016-12-28 00:00:00+00:00  33.915298  19.847183  \n",
            "2016-12-29 00:00:00+00:00  34.469009  19.945194  \n",
            "2016-12-30 00:00:00+00:00  34.884308  20.214725  \n",
            "\n",
            "[247 rows x 10 columns]\n",
            "OrderedDict([('0003.HK', 0.0), ('0011.HK', 0.0), ('0012.HK', 0.0), ('0066.HK', 0.0), ('0386.HK', 0.0), ('0700.HK', 0.54887), ('0823.HK', 0.21424), ('0939.HK', 0.23689), ('1099.HK', 0.0), ('1211.HK', 0.0)])\n",
            "OrderedDict([('0003.HK', 0.25536), ('0011.HK', 0.24284), ('0012.HK', 0.0), ('0066.HK', 0.32698), ('0386.HK', 0.0), ('0700.HK', 0.0), ('0823.HK', 0.17482), ('0939.HK', 0.0), ('1099.HK', 0.0), ('1211.HK', 0.0)])\n",
            "Expected annual return: 7.3%\n",
            "Annual volatility: 13.6%\n",
            "Sharpe Ratio: -1.45\n",
            "{'0003.HK': 3573, '0011.HK': 236, '0066.HK': 1143, '0823.HK': 501}\n",
            "Осталось денежных средств после построения портфеля с минимальной волатильностью - 17.94 рублей\n",
            "\n",
            "{'0700.HK': 325, '0823.HK': 613, '0939.HK': 6685}\n",
            "Осталось денежных средств после построения портфеля с максимальным коэффициентом Шарпа 12.93 рублей\n"
          ]
        },
        {
          "output_type": "display_data",
          "data": {
            "text/plain": [
              "<Figure size 640x480 with 1 Axes>"
            ],
            "image/png": "[encoded data removed]"
          },
          "metadata": {}
        },
        {
          "output_type": "stream",
          "name": "stderr",
          "text": [
            "[*********************100%***********************]  10 of 10 completed\n"
          ]
        },
        {
          "output_type": "stream",
          "name": "stdout",
          "text": [
            "                            1929.HK    0006.HK    0016.HK    1211.HK  \\\n",
            "Date                                                                   \n",
            "2016-01-04 00:00:00+00:00  3.394579  33.224693  64.231728  39.463650   \n",
            "2016-01-05 00:00:00+00:00  3.366698  33.248600  64.128357  39.033134   \n",
            "2016-01-06 00:00:00+00:00  3.276083  33.415909  63.473633  39.415813   \n",
            "2016-01-07 00:00:00+00:00  3.213350  33.176891  63.163494  35.541195   \n",
            "2016-01-08 00:00:00+00:00  3.290023  33.224693  63.094566  36.115211   \n",
            "...                             ...        ...        ...        ...   \n",
            "2016-12-22 00:00:00+00:00  4.321625  33.884663  70.114456  39.359360   \n",
            "2016-12-23 00:00:00+00:00  4.307171  33.785515  69.648949  38.877010   \n",
            "2016-12-28 00:00:00+00:00  4.249356  33.735947  69.577332  39.021713   \n",
            "2016-12-29 00:00:00+00:00  4.263810  33.686367  69.756386  39.745235   \n",
            "2016-12-30 00:00:00+00:00  4.285491  33.884663  70.186089  39.407593   \n",
            "\n",
            "                             2020.HK   0960.HK   0288.HK   0003.HK   0836.HK  \\\n",
            "Date                                                                           \n",
            "2016-01-04 00:00:00+00:00  18.182489  7.518040  2.943427  6.895866  8.794856   \n",
            "2016-01-05 00:00:00+00:00  18.703224  7.398071  3.040159  6.895866  9.190685   \n",
            "2016-01-06 00:00:00+00:00  18.963594  7.491379  3.026341  6.812674  9.400969   \n",
            "2016-01-07 00:00:00+00:00  18.659834  7.158133  2.971065  6.794185  9.066990   \n",
            "2016-01-08 00:00:00+00:00  18.095699  7.091484  2.936517  6.803429  8.968032   \n",
            "...                              ...       ...       ...       ...       ...   \n",
            "2016-12-22 00:00:00+00:00  19.612906  6.703421  4.439309  7.106403  8.023033   \n",
            "2016-12-23 00:00:00+00:00  19.745729  6.696467  4.425079  7.075189  7.956836   \n",
            "2016-12-28 00:00:00+00:00  19.878548  6.731235  4.467766  7.075189  7.970075   \n",
            "2016-12-29 00:00:00+00:00  20.055641  6.738188  4.425079  7.075189  8.089230   \n",
            "2016-12-30 00:00:00+00:00  20.498369  6.842495  4.460651  7.148022  8.155426   \n",
            "\n",
            "                             1299.HK  \n",
            "Date                                  \n",
            "2016-01-04 00:00:00+00:00  38.886734  \n",
            "2016-01-05 00:00:00+00:00  39.057846  \n",
            "2016-01-06 00:00:00+00:00  38.544495  \n",
            "2016-01-07 00:00:00+00:00  37.346664  \n",
            "2016-01-08 00:00:00+00:00  37.432224  \n",
            "...                              ...  \n",
            "2016-12-22 00:00:00+00:00  38.338249  \n",
            "2016-12-23 00:00:00+00:00  38.207848  \n",
            "2016-12-28 00:00:00+00:00  38.120907  \n",
            "2016-12-29 00:00:00+00:00  37.642769  \n",
            "2016-12-30 00:00:00+00:00  38.033978  \n",
            "\n",
            "[247 rows x 10 columns]\n",
            "OrderedDict([('0003.HK', 0.0), ('0006.HK', 0.0), ('0016.HK', 0.0), ('0288.HK', 0.75844), ('0836.HK', 0.0), ('0960.HK', 0.0), ('1211.HK', 0.0), ('1299.HK', 0.0), ('1929.HK', 0.22609), ('2020.HK', 0.01547)])\n",
            "OrderedDict([('0003.HK', 0.41905), ('0006.HK', 0.3344), ('0016.HK', 0.02109), ('0288.HK', 0.17595), ('0836.HK', -0.11667), ('0960.HK', 0.08766), ('1211.HK', -0.05943), ('1299.HK', 0.04403), ('1929.HK', 0.0819), ('2020.HK', 0.01203)])\n",
            "Expected annual return: 14.1%\n",
            "Annual volatility: 13.3%\n",
            "Sharpe Ratio: -0.97\n",
            "{'0003.HK': 4984, '0006.HK': 839, '0016.HK': 26, '0288.HK': 3353, '0960.HK': 1089, '1299.HK': 98, '1929.HK': 1624, '2020.HK': 50, '0836.HK': -1429, '1211.HK': -151}\n",
            "Осталось денежных средств после построения портфеля с минимальной волатильностью - 5.61 рублей\n",
            "\n",
            "{'0288.HK': 17003, '1929.HK': 5276, '2020.HK': 75}\n",
            "Осталось денежных средств после построения портфеля с максимальным коэффициентом Шарпа 7.92 рублей\n"
          ]
        },
        {
          "output_type": "display_data",
          "data": {
            "text/plain": [
              "<Figure size 640x480 with 1 Axes>"
            ],
            "image/png": "[encoded data removed]"
          },
          "metadata": {}
        }
      ]
    }
  ]
}