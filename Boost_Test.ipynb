{
  "nbformat": 4,
  "nbformat_minor": 0,
  "metadata": {
    "colab": {
      "provenance": [],
      "authorship_tag": "ABX9TyPaVFoSmpGToUVdWjQLwFRa",
      "include_colab_link": true
    },
    "kernelspec": {
      "name": "python3",
      "display_name": "Python 3"
    },
    "language_info": {
      "name": "python"
    }
  },
  "cells": [
    {
      "cell_type": "markdown",
      "metadata": {
        "id": "view-in-github",
        "colab_type": "text"
      },
      "source": [
        "<a href=\"https://colab.research.google.com/github/Bbeelina/Trash/blob/main/Boost_Test.ipynb\" target=\"_parent\"><img src=\"https://colab.research.google.com/assets/colab-badge.svg\" alt=\"Open In Colab\"/></a>"
      ]
    },
    {
      "cell_type": "code",
      "source": [
        "!pip install catboost\n",
        "!pip install lightgbm\n",
        "!pip install xgboost\n"
      ],
      "metadata": {
        "colab": {
          "base_uri": "https://localhost:8080/"
        },
        "collapsed": true,
        "id": "s1TyggZ60Mrs",
        "outputId": "dd4ceafa-d111-4998-d516-bcbfdf4b2e01"
      },
      "execution_count": 9,
      "outputs": [
        {
          "output_type": "stream",
          "name": "stdout",
          "text": [
            "Requirement already satisfied: catboost in /usr/local/lib/python3.10/dist-packages (1.2.7)\n",
            "Requirement already satisfied: graphviz in /usr/local/lib/python3.10/dist-packages (from catboost) (0.20.3)\n",
            "Requirement already satisfied: matplotlib in /usr/local/lib/python3.10/dist-packages (from catboost) (3.8.0)\n",
            "Requirement already satisfied: numpy<2.0,>=1.16.0 in /usr/local/lib/python3.10/dist-packages (from catboost) (1.26.4)\n",
            "Requirement already satisfied: pandas>=0.24 in /usr/local/lib/python3.10/dist-packages (from catboost) (2.2.2)\n",
            "Requirement already satisfied: scipy in /usr/local/lib/python3.10/dist-packages (from catboost) (1.13.1)\n",
            "Requirement already satisfied: plotly in /usr/local/lib/python3.10/dist-packages (from catboost) (5.24.1)\n",
            "Requirement already satisfied: six in /usr/local/lib/python3.10/dist-packages (from catboost) (1.16.0)\n",
            "Requirement already satisfied: python-dateutil>=2.8.2 in /usr/local/lib/python3.10/dist-packages (from pandas>=0.24->catboost) (2.8.2)\n",
            "Requirement already satisfied: pytz>=2020.1 in /usr/local/lib/python3.10/dist-packages (from pandas>=0.24->catboost) (2024.2)\n",
            "Requirement already satisfied: tzdata>=2022.7 in /usr/local/lib/python3.10/dist-packages (from pandas>=0.24->catboost) (2024.2)\n",
            "Requirement already satisfied: contourpy>=1.0.1 in /usr/local/lib/python3.10/dist-packages (from matplotlib->catboost) (1.3.1)\n",
            "Requirement already satisfied: cycler>=0.10 in /usr/local/lib/python3.10/dist-packages (from matplotlib->catboost) (0.12.1)\n",
            "Requirement already satisfied: fonttools>=4.22.0 in /usr/local/lib/python3.10/dist-packages (from matplotlib->catboost) (4.55.0)\n",
            "Requirement already satisfied: kiwisolver>=1.0.1 in /usr/local/lib/python3.10/dist-packages (from matplotlib->catboost) (1.4.7)\n",
            "Requirement already satisfied: packaging>=20.0 in /usr/local/lib/python3.10/dist-packages (from matplotlib->catboost) (24.2)\n",
            "Requirement already satisfied: pillow>=6.2.0 in /usr/local/lib/python3.10/dist-packages (from matplotlib->catboost) (11.0.0)\n",
            "Requirement already satisfied: pyparsing>=2.3.1 in /usr/local/lib/python3.10/dist-packages (from matplotlib->catboost) (3.2.0)\n",
            "Requirement already satisfied: tenacity>=6.2.0 in /usr/local/lib/python3.10/dist-packages (from plotly->catboost) (9.0.0)\n",
            "Requirement already satisfied: lightgbm in /usr/local/lib/python3.10/dist-packages (4.5.0)\n",
            "Requirement already satisfied: numpy>=1.17.0 in /usr/local/lib/python3.10/dist-packages (from lightgbm) (1.26.4)\n",
            "Requirement already satisfied: scipy in /usr/local/lib/python3.10/dist-packages (from lightgbm) (1.13.1)\n",
            "Requirement already satisfied: xgboost in /usr/local/lib/python3.10/dist-packages (2.1.2)\n",
            "Requirement already satisfied: numpy in /usr/local/lib/python3.10/dist-packages (from xgboost) (1.26.4)\n",
            "Requirement already satisfied: nvidia-nccl-cu12 in /usr/local/lib/python3.10/dist-packages (from xgboost) (2.23.4)\n",
            "Requirement already satisfied: scipy in /usr/local/lib/python3.10/dist-packages (from xgboost) (1.13.1)\n"
          ]
        }
      ]
    },
    {
      "cell_type": "code",
      "source": [
        "!pip install \"dask[dataframe]\""
      ],
      "metadata": {
        "colab": {
          "base_uri": "https://localhost:8080/"
        },
        "collapsed": true,
        "id": "ooIXrUD517Oy",
        "outputId": "dac9e7be-d9e7-49c8-aef3-5350d984b8f3"
      },
      "execution_count": 12,
      "outputs": [
        {
          "output_type": "stream",
          "name": "stdout",
          "text": [
            "Requirement already satisfied: dask[dataframe] in /usr/local/lib/python3.10/dist-packages (2024.10.0)\n",
            "Requirement already satisfied: click>=8.1 in /usr/local/lib/python3.10/dist-packages (from dask[dataframe]) (8.1.7)\n",
            "Requirement already satisfied: cloudpickle>=3.0.0 in /usr/local/lib/python3.10/dist-packages (from dask[dataframe]) (3.1.0)\n",
            "Requirement already satisfied: fsspec>=2021.09.0 in /usr/local/lib/python3.10/dist-packages (from dask[dataframe]) (2024.10.0)\n",
            "Requirement already satisfied: packaging>=20.0 in /usr/local/lib/python3.10/dist-packages (from dask[dataframe]) (24.2)\n",
            "Requirement already satisfied: partd>=1.4.0 in /usr/local/lib/python3.10/dist-packages (from dask[dataframe]) (1.4.2)\n",
            "Requirement already satisfied: pyyaml>=5.3.1 in /usr/local/lib/python3.10/dist-packages (from dask[dataframe]) (6.0.2)\n",
            "Requirement already satisfied: toolz>=0.10.0 in /usr/local/lib/python3.10/dist-packages (from dask[dataframe]) (0.12.1)\n",
            "Requirement already satisfied: importlib-metadata>=4.13.0 in /usr/local/lib/python3.10/dist-packages (from dask[dataframe]) (8.5.0)\n",
            "Requirement already satisfied: pandas>=2.0 in /usr/local/lib/python3.10/dist-packages (from dask[dataframe]) (2.2.2)\n",
            "Collecting dask-expr<1.2,>=1.1 (from dask[dataframe])\n",
            "  Downloading dask_expr-1.1.19-py3-none-any.whl.metadata (2.6 kB)\n",
            "INFO: pip is looking at multiple versions of dask-expr to determine which version is compatible with other requirements. This could take a while.\n",
            "  Downloading dask_expr-1.1.18-py3-none-any.whl.metadata (2.6 kB)\n",
            "  Downloading dask_expr-1.1.16-py3-none-any.whl.metadata (2.5 kB)\n",
            "Requirement already satisfied: pyarrow>=14.0.1 in /usr/local/lib/python3.10/dist-packages (from dask-expr<1.2,>=1.1->dask[dataframe]) (17.0.0)\n",
            "Requirement already satisfied: zipp>=3.20 in /usr/local/lib/python3.10/dist-packages (from importlib-metadata>=4.13.0->dask[dataframe]) (3.21.0)\n",
            "Requirement already satisfied: numpy>=1.22.4 in /usr/local/lib/python3.10/dist-packages (from pandas>=2.0->dask[dataframe]) (1.26.4)\n",
            "Requirement already satisfied: python-dateutil>=2.8.2 in /usr/local/lib/python3.10/dist-packages (from pandas>=2.0->dask[dataframe]) (2.8.2)\n",
            "Requirement already satisfied: pytz>=2020.1 in /usr/local/lib/python3.10/dist-packages (from pandas>=2.0->dask[dataframe]) (2024.2)\n",
            "Requirement already satisfied: tzdata>=2022.7 in /usr/local/lib/python3.10/dist-packages (from pandas>=2.0->dask[dataframe]) (2024.2)\n",
            "Requirement already satisfied: locket in /usr/local/lib/python3.10/dist-packages (from partd>=1.4.0->dask[dataframe]) (1.0.0)\n",
            "Requirement already satisfied: six>=1.5 in /usr/local/lib/python3.10/dist-packages (from python-dateutil>=2.8.2->pandas>=2.0->dask[dataframe]) (1.16.0)\n",
            "Downloading dask_expr-1.1.16-py3-none-any.whl (243 kB)\n",
            "\u001b[2K   \u001b[90m━━━━━━━━━━━━━━━━━━━━━━━━━━━━━━━━━━━━━━━━\u001b[0m \u001b[32m243.2/243.2 kB\u001b[0m \u001b[31m7.5 MB/s\u001b[0m eta \u001b[36m0:00:00\u001b[0m\n",
            "\u001b[?25hInstalling collected packages: dask-expr\n",
            "Successfully installed dask-expr-1.1.16\n"
          ]
        }
      ]
    },
    {
      "cell_type": "code",
      "source": [
        "import numpy as np\n",
        "import pandas as pd\n",
        "from sklearn.datasets import make_regression\n",
        "from sklearn.model_selection import train_test_split\n",
        "from sklearn.metrics import mean_squared_error\n"
      ],
      "metadata": {
        "id": "AiTPQqKyzFtL"
      },
      "execution_count": 1,
      "outputs": []
    },
    {
      "cell_type": "code",
      "source": [
        "# Генерация синтетических данных\n",
        "X, y = make_regression(n_samples=1000, n_features=10, noise=10, random_state=42)\n",
        "X_train, X_test, y_train, y_test = train_test_split(X, y, test_size=0.2, random_state=42)\n",
        "#print(X_train, X_test, y_train, y_test)"
      ],
      "metadata": {
        "id": "syWHkPLJzLCS"
      },
      "execution_count": 4,
      "outputs": []
    },
    {
      "cell_type": "code",
      "source": [
        "# CatBoost\n",
        "import catboost as cb\n",
        "model_catboost = cb.CatBoostRegressor(iterations=100, verbose=0, random_seed=42) # Уменьшили итерации для скорости\n",
        "model_catboost.fit(X_train, y_train)\n",
        "y_pred_catboost = model_catboost.predict(X_test)\n",
        "rmse_catboost = np.sqrt(mean_squared_error(y_test, y_pred_catboost))\n",
        "print(y_pred_catboost)"
      ],
      "metadata": {
        "colab": {
          "base_uri": "https://localhost:8080/"
        },
        "collapsed": true,
        "id": "iFHAhzZDzdim",
        "outputId": "9f31fc74-ec7c-4e63-b301-779580cb15df"
      },
      "execution_count": 7,
      "outputs": [
        {
          "output_type": "stream",
          "name": "stdout",
          "text": [
            "[  17.32327916   83.58875692    5.34679408 -287.87476121   32.61345433\n",
            "   38.7107511  -142.7795775   -69.40328662  -11.81440591  180.10769572\n",
            " -316.44671278  -38.4731633    30.06382836  -87.65674155  138.18122483\n",
            " -147.84813428  -51.14262696   26.45336262   89.90124876  -60.33906979\n",
            "   96.12481117  197.88094792  202.41667303 -118.41320601  187.2667114\n",
            " -119.0319714  -231.47682931  216.10604455   45.7186521   233.08953919\n",
            "  222.90592687 -167.89827483   20.94212921   46.12712411  -56.29947135\n",
            " -171.65916375   41.20553495  -30.69089514   18.72696619  -75.46962024\n",
            "   32.38106892  -16.91226104   27.03760376  112.91390061  -54.74684422\n",
            "  -20.33506243  -79.42220691 -115.13653216  118.00101566 -124.30210007\n",
            "  -32.73526037  181.13294907  243.04498343  -79.72894558  -35.18146716\n",
            "  -86.63640062  137.28661572   62.56001014   77.80353108  -10.07187419\n",
            " -122.2398008     5.46116145  -20.95867029  -68.34391389  141.03362462\n",
            "  181.2877667   230.50111051   75.10846766  127.66522581   75.75013822\n",
            "   22.22008551   30.31942394   48.83102035  -96.51127454 -138.3861657\n",
            "  -71.35469823   24.65910518    0.56001018  175.6960052   -55.37373772\n",
            "   32.75530367   31.25892892 -225.78834175  -94.88701041   15.94936178\n",
            " -164.60968968   -3.63971688  269.44051514  -69.88500794 -103.52178343\n",
            "  126.03528698   80.17737489   88.28263242  136.45159074  157.5364601\n",
            "  191.266676    249.95657146 -243.1823147   -96.05027644    1.41511841\n",
            "  204.67597917  -21.227585     42.10801781  -30.53567878  -15.27417959\n",
            "  -12.39353029 -103.72082836  -73.2772172   -56.57818679   39.5708417\n",
            "  -26.40489312  -67.60237108   27.10966017  107.29586579   53.17313637\n",
            "   -7.35006752  208.24309789  -13.49164559  140.74185248  218.50241255\n",
            " -218.38586761 -130.60518353  141.36492362  103.31059624  -36.25437912\n",
            " -115.00901739  -25.96008499   83.41381981   74.68482675  -45.37120528\n",
            "  188.18927993   17.64119545   74.25025919  101.83903996  105.03736002\n",
            "  -58.60108099  122.28670298 -167.77000654  139.11293382 -136.93968777\n",
            "  183.28577654  -24.49835535  -76.13952147  -41.41076405  199.99500288\n",
            "  -52.58173715  -71.44080611   -1.11090631   -2.21969206  137.69222495\n",
            "   99.3712051   -40.11968116  -21.86559867  -13.63425909   42.86958636\n",
            "  -68.54040636  152.70875387  -23.86254234  -85.32504798   -3.6863603\n",
            " -309.8395042   183.04085624  123.82934599   70.66920483  137.73993623\n",
            " -189.10214836 -123.88875956    5.5411245   235.18259999   35.09696489\n",
            "  128.1961696    48.12350234 -157.66142553  121.97300926  117.1305706\n",
            "  177.3396816   -78.76550058  139.65018157   26.28145514  115.16843999\n",
            " -209.06526485   -7.15624896  189.64557835 -178.52536975 -321.68245967\n",
            "  116.52883368  105.01041173  167.07062651  -52.25019943   57.72717288\n",
            "  183.7850059    38.45445623  139.88347159  -20.56293141  220.13041459\n",
            " -231.52689386 -126.00692996 -109.93273622   -7.56014638   77.75164393]\n"
          ]
        }
      ]
    },
    {
      "cell_type": "code",
      "source": [
        "# LightGBM\n",
        "import lightgbm as lgb\n",
        "model_lgbm = lgb.LGBMRegressor(n_estimators=100, random_state=42, force_col_wise=True) # Уменьшили количество деревьев для скорости\n",
        "model_lgbm.fit(X_train, y_train)\n",
        "y_pred_lgbm = model_lgbm.predict(X_test)\n",
        "rmse_lgbm = np.sqrt(mean_squared_error(y_test, y_pred_lgbm))"
      ],
      "metadata": {
        "colab": {
          "base_uri": "https://localhost:8080/"
        },
        "collapsed": true,
        "id": "xQYgfa_o1L-o",
        "outputId": "996f7fb6-7054-4ddd-f047-a347224c0abc"
      },
      "execution_count": 15,
      "outputs": [
        {
          "output_type": "stream",
          "name": "stdout",
          "text": [
            "[LightGBM] [Info] Total Bins 2550\n",
            "[LightGBM] [Info] Number of data points in the train set: 800, number of used features: 10\n",
            "[LightGBM] [Info] Start training from score -0.809522\n",
            "[LightGBM] [Warning] No further splits with positive gain, best gain: -inf\n",
            "[LightGBM] [Warning] No further splits with positive gain, best gain: -inf\n",
            "[LightGBM] [Warning] No further splits with positive gain, best gain: -inf\n",
            "[LightGBM] [Warning] No further splits with positive gain, best gain: -inf\n",
            "[LightGBM] [Warning] No further splits with positive gain, best gain: -inf\n",
            "[LightGBM] [Warning] No further splits with positive gain, best gain: -inf\n",
            "[LightGBM] [Warning] No further splits with positive gain, best gain: -inf\n",
            "[LightGBM] [Warning] No further splits with positive gain, best gain: -inf\n",
            "[LightGBM] [Warning] No further splits with positive gain, best gain: -inf\n",
            "[LightGBM] [Warning] No further splits with positive gain, best gain: -inf\n",
            "[LightGBM] [Warning] No further splits with positive gain, best gain: -inf\n",
            "[LightGBM] [Warning] No further splits with positive gain, best gain: -inf\n",
            "[LightGBM] [Warning] No further splits with positive gain, best gain: -inf\n",
            "[LightGBM] [Warning] No further splits with positive gain, best gain: -inf\n",
            "[LightGBM] [Warning] No further splits with positive gain, best gain: -inf\n",
            "[LightGBM] [Warning] No further splits with positive gain, best gain: -inf\n",
            "[LightGBM] [Warning] No further splits with positive gain, best gain: -inf\n",
            "[LightGBM] [Warning] No further splits with positive gain, best gain: -inf\n",
            "[LightGBM] [Warning] No further splits with positive gain, best gain: -inf\n",
            "[LightGBM] [Warning] No further splits with positive gain, best gain: -inf\n",
            "[LightGBM] [Warning] No further splits with positive gain, best gain: -inf\n",
            "[LightGBM] [Warning] No further splits with positive gain, best gain: -inf\n",
            "[LightGBM] [Warning] No further splits with positive gain, best gain: -inf\n",
            "[LightGBM] [Warning] No further splits with positive gain, best gain: -inf\n",
            "[LightGBM] [Warning] No further splits with positive gain, best gain: -inf\n",
            "[LightGBM] [Warning] No further splits with positive gain, best gain: -inf\n"
          ]
        }
      ]
    },
    {
      "cell_type": "code",
      "source": [
        "# XGBoost\n",
        "import xgboost as xgb\n",
        "model_xgboost = xgb.XGBRegressor(n_estimators=100, random_state=42) # Уменьшили количество деревьев для скорости\n",
        "model_xgboost.fit(X_train, y_train)\n",
        "y_pred_xgboost = model_xgboost.predict(X_test)\n",
        "rmse_xgboost = np.sqrt(mean_squared_error(y_test, y_pred_xgboost))\n"
      ],
      "metadata": {
        "id": "luXZKWu53EQe"
      },
      "execution_count": 16,
      "outputs": []
    },
    {
      "cell_type": "code",
      "source": [
        "# Вывод результатов\n",
        "print(f\"CatBoost RMSE: {rmse_catboost:.2f}\")\n",
        "print(f\"LightGBM RMSE: {rmse_lgbm:.2f}\")\n",
        "print(f\"XGBoost RMSE: {rmse_xgboost:.2f}\")"
      ],
      "metadata": {
        "colab": {
          "base_uri": "https://localhost:8080/"
        },
        "id": "WNcLbHGN3JXk",
        "outputId": "fb6efe42-7871-40f1-f4d7-779811353153"
      },
      "execution_count": 17,
      "outputs": [
        {
          "output_type": "stream",
          "name": "stdout",
          "text": [
            "CatBoost RMSE: 23.28\n",
            "LightGBM RMSE: 31.90\n",
            "XGBoost RMSE: 42.73\n"
          ]
        }
      ]
    },
    {
      "cell_type": "code",
      "source": [
        "!pip install category_encoders"
      ],
      "metadata": {
        "collapsed": true,
        "colab": {
          "base_uri": "https://localhost:8080/"
        },
        "id": "h7l-fA3OHMAq",
        "outputId": "3819d0ee-f98c-4f77-c331-6aa7bb5bc289"
      },
      "execution_count": 1,
      "outputs": [
        {
          "output_type": "stream",
          "name": "stdout",
          "text": [
            "Collecting category_encoders\n",
            "  Downloading category_encoders-2.6.4-py2.py3-none-any.whl.metadata (8.0 kB)\n",
            "Requirement already satisfied: numpy>=1.14.0 in /usr/local/lib/python3.10/dist-packages (from category_encoders) (1.26.4)\n",
            "Requirement already satisfied: scikit-learn>=0.20.0 in /usr/local/lib/python3.10/dist-packages (from category_encoders) (1.5.2)\n",
            "Requirement already satisfied: scipy>=1.0.0 in /usr/local/lib/python3.10/dist-packages (from category_encoders) (1.13.1)\n",
            "Requirement already satisfied: statsmodels>=0.9.0 in /usr/local/lib/python3.10/dist-packages (from category_encoders) (0.14.4)\n",
            "Requirement already satisfied: pandas>=1.0.5 in /usr/local/lib/python3.10/dist-packages (from category_encoders) (2.2.2)\n",
            "Requirement already satisfied: patsy>=0.5.1 in /usr/local/lib/python3.10/dist-packages (from category_encoders) (1.0.1)\n",
            "Requirement already satisfied: python-dateutil>=2.8.2 in /usr/local/lib/python3.10/dist-packages (from pandas>=1.0.5->category_encoders) (2.8.2)\n",
            "Requirement already satisfied: pytz>=2020.1 in /usr/local/lib/python3.10/dist-packages (from pandas>=1.0.5->category_encoders) (2024.2)\n",
            "Requirement already satisfied: tzdata>=2022.7 in /usr/local/lib/python3.10/dist-packages (from pandas>=1.0.5->category_encoders) (2024.2)\n",
            "Requirement already satisfied: joblib>=1.2.0 in /usr/local/lib/python3.10/dist-packages (from scikit-learn>=0.20.0->category_encoders) (1.4.2)\n",
            "Requirement already satisfied: threadpoolctl>=3.1.0 in /usr/local/lib/python3.10/dist-packages (from scikit-learn>=0.20.0->category_encoders) (3.5.0)\n",
            "Requirement already satisfied: packaging>=21.3 in /usr/local/lib/python3.10/dist-packages (from statsmodels>=0.9.0->category_encoders) (24.2)\n",
            "Requirement already satisfied: six>=1.5 in /usr/local/lib/python3.10/dist-packages (from python-dateutil>=2.8.2->pandas>=1.0.5->category_encoders) (1.16.0)\n",
            "Downloading category_encoders-2.6.4-py2.py3-none-any.whl (82 kB)\n",
            "\u001b[?25l   \u001b[90m━━━━━━━━━━━━━━━━━━━━━━━━━━━━━━━━━━━━━━━━\u001b[0m \u001b[32m0.0/82.0 kB\u001b[0m \u001b[31m?\u001b[0m eta \u001b[36m-:--:--\u001b[0m\r\u001b[2K   \u001b[90m━━━━━━━━━━━━━━━━━━━━━━━━━━━━━━━━━━━━━━━━\u001b[0m \u001b[32m82.0/82.0 kB\u001b[0m \u001b[31m7.7 MB/s\u001b[0m eta \u001b[36m0:00:00\u001b[0m\n",
            "\u001b[?25hInstalling collected packages: category_encoders\n",
            "Successfully installed category_encoders-2.6.4\n"
          ]
        }
      ]
    },
    {
      "cell_type": "code",
      "source": [
        "import category_encoders as ce\n",
        "import pandas as pd\n",
        "\n",
        "# Make dataset\n",
        "train = pd.DataFrame({\n",
        "    'color': [\"red\", \"blue\", \"blue\", \"green\", \"red\",\n",
        "              \"red\", \"black\", \"black\", \"blue\", \"green\"],\n",
        "\n",
        "    'interests': [\"sketching\", \"painting\", \"instruments\",\n",
        "                  \"sketching\", \"painting\", \"video games\",\n",
        "                  \"painting\", \"instruments\", \"sketching\",\n",
        "                  \"sketching\"],\n",
        "\n",
        "    'height': [68, 64, 87, 45, 54, 64, 67, 98, 90, 87],\n",
        "\n",
        "    'grade': [1, 2, 3, 2, 3, 1, 4, 4, 2, 3], })\n",
        "print(train)\n",
        "\n",
        "# Define train and target\n",
        "target = train[['grade']]\n",
        "train = train.drop('grade', axis = 1)\n",
        "\n",
        "# Define catboost encoder\n",
        "cbe_encoder = ce.cat_boost.CatBoostEncoder()\n",
        "\n",
        "# Fit encoder and transform the features\n",
        "cbe_encoder.fit(train, target)\n",
        "train_cbe = cbe_encoder.transform(train)\n",
        "print()\n",
        "print('trained data')\n",
        "print(train_cbe)\n",
        "# We can use fit_transform() instead of fit()\n",
        "# and transform() separately as follows:\n",
        "# train_cbe = cbe_encoder.fit_transform(train,target)"
      ],
      "metadata": {
        "colab": {
          "base_uri": "https://localhost:8080/"
        },
        "id": "LNVndMHxHEnM",
        "outputId": "0f56741c-cd5e-4b55-e7a9-f256edb6714a"
      },
      "execution_count": 7,
      "outputs": [
        {
          "output_type": "stream",
          "name": "stdout",
          "text": [
            "   color    interests  height  grade\n",
            "0    red    sketching      68      1\n",
            "1   blue     painting      64      2\n",
            "2   blue  instruments      87      3\n",
            "3  green    sketching      45      2\n",
            "4    red     painting      54      3\n",
            "5    red  video games      64      1\n",
            "6  black     painting      67      4\n",
            "7  black  instruments      98      4\n",
            "8   blue    sketching      90      2\n",
            "9  green    sketching      87      3\n",
            "\n",
            "trained data\n",
            "   color  interests  height\n",
            "0  1.875   2.100000      68\n",
            "1  2.375   2.875000      64\n",
            "2  2.375   3.166667      87\n",
            "3  2.500   2.100000      45\n",
            "4  1.875   2.875000      54\n",
            "5  1.875   2.500000      64\n",
            "6  3.500   2.875000      67\n",
            "7  3.500   3.166667      98\n",
            "8  2.375   2.100000      90\n",
            "9  2.500   2.100000      87\n"
          ]
        }
      ]
    }
  ]
}